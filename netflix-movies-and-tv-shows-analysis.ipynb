{
 "cells": [
  {
   "cell_type": "code",
   "execution_count": 2,
   "id": "e5ea48a8",
   "metadata": {},
   "outputs": [
    {
     "name": "stdout",
     "output_type": "stream",
     "text": [
      "Collecting numpy==1.24.1\n",
      "  Downloading numpy-1.24.1-cp39-cp39-win_amd64.whl (14.9 MB)\n",
      "     -------------------------------------- 14.9/14.9 MB 335.4 kB/s eta 0:00:00\n",
      "Installing collected packages: numpy\n",
      "  Attempting uninstall: numpy\n",
      "    Found existing installation: numpy 1.26.4\n",
      "    Uninstalling numpy-1.26.4:\n",
      "      Successfully uninstalled numpy-1.26.4\n",
      "Note: you may need to restart the kernel to use updated packages.\n"
     ]
    },
    {
     "name": "stderr",
     "output_type": "stream",
     "text": [
      "ERROR: Could not install packages due to an OSError: [WinError 5] Access is denied: 'C:\\\\Users\\\\KIIT\\\\anaconda3\\\\Lib\\\\site-packages\\\\~~mpy.libs\\\\libopenblas64__v0.3.23-293-gc2f4bdbb-gcc_10_3_0-2bde3a66a51006b2b53eb373ff767a3f.dll'\n",
      "Consider using the `--user` option or check the permissions.\n",
      "\n"
     ]
    }
   ],
   "source": [
    "pip install numpy==1.24.1"
   ]
  },
  {
   "cell_type": "code",
   "execution_count": 3,
   "id": "12a0baf9",
   "metadata": {
    "execution": {
     "iopub.execute_input": "2024-03-11T13:00:24.545379Z",
     "iopub.status.busy": "2024-03-11T13:00:24.544826Z",
     "iopub.status.idle": "2024-03-11T13:00:27.143303Z",
     "shell.execute_reply": "2024-03-11T13:00:27.141850Z"
    },
    "papermill": {
     "duration": 2.61759,
     "end_time": "2024-03-11T13:00:27.146241",
     "exception": false,
     "start_time": "2024-03-11T13:00:24.528651",
     "status": "completed"
    },
    "tags": []
   },
   "outputs": [],
   "source": [
    "import pandas as pd \n",
    "import numpy as np\n",
    "import matplotlib.pyplot as plt\n",
    "import seaborn as sns\n",
    "import datetime as dt\n",
    "import warnings\n",
    "warnings.filterwarnings('ignore')"
   ]
  },
  {
   "cell_type": "code",
   "execution_count": 4,
   "id": "ed4d53b7",
   "metadata": {
    "execution": {
     "iopub.execute_input": "2024-03-11T13:00:27.173146Z",
     "iopub.status.busy": "2024-03-11T13:00:27.172522Z",
     "iopub.status.idle": "2024-03-11T13:00:27.339061Z",
     "shell.execute_reply": "2024-03-11T13:00:27.337977Z"
    },
    "papermill": {
     "duration": 0.182948,
     "end_time": "2024-03-11T13:00:27.341718",
     "exception": false,
     "start_time": "2024-03-11T13:00:27.158770",
     "status": "completed"
    },
    "tags": []
   },
   "outputs": [],
   "source": [
    "df = pd.read_csv('netflix_titles.csv')"
   ]
  },
  {
   "cell_type": "code",
   "execution_count": 5,
   "id": "e53683f7",
   "metadata": {
    "execution": {
     "iopub.execute_input": "2024-03-11T13:00:27.371617Z",
     "iopub.status.busy": "2024-03-11T13:00:27.370931Z",
     "iopub.status.idle": "2024-03-11T13:00:27.396015Z",
     "shell.execute_reply": "2024-03-11T13:00:27.394684Z"
    },
    "papermill": {
     "duration": 0.044795,
     "end_time": "2024-03-11T13:00:27.398626",
     "exception": false,
     "start_time": "2024-03-11T13:00:27.353831",
     "status": "completed"
    },
    "tags": []
   },
   "outputs": [
    {
     "data": {
      "text/html": [
       "<div>\n",
       "<style scoped>\n",
       "    .dataframe tbody tr th:only-of-type {\n",
       "        vertical-align: middle;\n",
       "    }\n",
       "\n",
       "    .dataframe tbody tr th {\n",
       "        vertical-align: top;\n",
       "    }\n",
       "\n",
       "    .dataframe thead th {\n",
       "        text-align: right;\n",
       "    }\n",
       "</style>\n",
       "<table border=\"1\" class=\"dataframe\">\n",
       "  <thead>\n",
       "    <tr style=\"text-align: right;\">\n",
       "      <th></th>\n",
       "      <th>show_id</th>\n",
       "      <th>type</th>\n",
       "      <th>title</th>\n",
       "      <th>director</th>\n",
       "      <th>cast</th>\n",
       "      <th>country</th>\n",
       "      <th>date_added</th>\n",
       "      <th>release_year</th>\n",
       "      <th>rating</th>\n",
       "      <th>duration</th>\n",
       "      <th>listed_in</th>\n",
       "      <th>description</th>\n",
       "    </tr>\n",
       "  </thead>\n",
       "  <tbody>\n",
       "    <tr>\n",
       "      <th>0</th>\n",
       "      <td>s1</td>\n",
       "      <td>Movie</td>\n",
       "      <td>Dick Johnson Is Dead</td>\n",
       "      <td>Kirsten Johnson</td>\n",
       "      <td>NaN</td>\n",
       "      <td>United States</td>\n",
       "      <td>September 25, 2021</td>\n",
       "      <td>2020</td>\n",
       "      <td>PG-13</td>\n",
       "      <td>90 min</td>\n",
       "      <td>Documentaries</td>\n",
       "      <td>As her father nears the end of his life, filmm...</td>\n",
       "    </tr>\n",
       "    <tr>\n",
       "      <th>1</th>\n",
       "      <td>s2</td>\n",
       "      <td>TV Show</td>\n",
       "      <td>Blood &amp; Water</td>\n",
       "      <td>NaN</td>\n",
       "      <td>Ama Qamata, Khosi Ngema, Gail Mabalane, Thaban...</td>\n",
       "      <td>South Africa</td>\n",
       "      <td>September 24, 2021</td>\n",
       "      <td>2021</td>\n",
       "      <td>TV-MA</td>\n",
       "      <td>2 Seasons</td>\n",
       "      <td>International TV Shows, TV Dramas, TV Mysteries</td>\n",
       "      <td>After crossing paths at a party, a Cape Town t...</td>\n",
       "    </tr>\n",
       "    <tr>\n",
       "      <th>2</th>\n",
       "      <td>s3</td>\n",
       "      <td>TV Show</td>\n",
       "      <td>Ganglands</td>\n",
       "      <td>Julien Leclercq</td>\n",
       "      <td>Sami Bouajila, Tracy Gotoas, Samuel Jouy, Nabi...</td>\n",
       "      <td>NaN</td>\n",
       "      <td>September 24, 2021</td>\n",
       "      <td>2021</td>\n",
       "      <td>TV-MA</td>\n",
       "      <td>1 Season</td>\n",
       "      <td>Crime TV Shows, International TV Shows, TV Act...</td>\n",
       "      <td>To protect his family from a powerful drug lor...</td>\n",
       "    </tr>\n",
       "    <tr>\n",
       "      <th>3</th>\n",
       "      <td>s4</td>\n",
       "      <td>TV Show</td>\n",
       "      <td>Jailbirds New Orleans</td>\n",
       "      <td>NaN</td>\n",
       "      <td>NaN</td>\n",
       "      <td>NaN</td>\n",
       "      <td>September 24, 2021</td>\n",
       "      <td>2021</td>\n",
       "      <td>TV-MA</td>\n",
       "      <td>1 Season</td>\n",
       "      <td>Docuseries, Reality TV</td>\n",
       "      <td>Feuds, flirtations and toilet talk go down amo...</td>\n",
       "    </tr>\n",
       "    <tr>\n",
       "      <th>4</th>\n",
       "      <td>s5</td>\n",
       "      <td>TV Show</td>\n",
       "      <td>Kota Factory</td>\n",
       "      <td>NaN</td>\n",
       "      <td>Mayur More, Jitendra Kumar, Ranjan Raj, Alam K...</td>\n",
       "      <td>India</td>\n",
       "      <td>September 24, 2021</td>\n",
       "      <td>2021</td>\n",
       "      <td>TV-MA</td>\n",
       "      <td>2 Seasons</td>\n",
       "      <td>International TV Shows, Romantic TV Shows, TV ...</td>\n",
       "      <td>In a city of coaching centers known to train I...</td>\n",
       "    </tr>\n",
       "  </tbody>\n",
       "</table>\n",
       "</div>"
      ],
      "text/plain": [
       "  show_id     type                  title         director  \\\n",
       "0      s1    Movie   Dick Johnson Is Dead  Kirsten Johnson   \n",
       "1      s2  TV Show          Blood & Water              NaN   \n",
       "2      s3  TV Show              Ganglands  Julien Leclercq   \n",
       "3      s4  TV Show  Jailbirds New Orleans              NaN   \n",
       "4      s5  TV Show           Kota Factory              NaN   \n",
       "\n",
       "                                                cast        country  \\\n",
       "0                                                NaN  United States   \n",
       "1  Ama Qamata, Khosi Ngema, Gail Mabalane, Thaban...   South Africa   \n",
       "2  Sami Bouajila, Tracy Gotoas, Samuel Jouy, Nabi...            NaN   \n",
       "3                                                NaN            NaN   \n",
       "4  Mayur More, Jitendra Kumar, Ranjan Raj, Alam K...          India   \n",
       "\n",
       "           date_added  release_year rating   duration  \\\n",
       "0  September 25, 2021          2020  PG-13     90 min   \n",
       "1  September 24, 2021          2021  TV-MA  2 Seasons   \n",
       "2  September 24, 2021          2021  TV-MA   1 Season   \n",
       "3  September 24, 2021          2021  TV-MA   1 Season   \n",
       "4  September 24, 2021          2021  TV-MA  2 Seasons   \n",
       "\n",
       "                                           listed_in  \\\n",
       "0                                      Documentaries   \n",
       "1    International TV Shows, TV Dramas, TV Mysteries   \n",
       "2  Crime TV Shows, International TV Shows, TV Act...   \n",
       "3                             Docuseries, Reality TV   \n",
       "4  International TV Shows, Romantic TV Shows, TV ...   \n",
       "\n",
       "                                         description  \n",
       "0  As her father nears the end of his life, filmm...  \n",
       "1  After crossing paths at a party, a Cape Town t...  \n",
       "2  To protect his family from a powerful drug lor...  \n",
       "3  Feuds, flirtations and toilet talk go down amo...  \n",
       "4  In a city of coaching centers known to train I...  "
      ]
     },
     "execution_count": 5,
     "metadata": {},
     "output_type": "execute_result"
    }
   ],
   "source": [
    "df.head()"
   ]
  },
  {
   "cell_type": "code",
   "execution_count": 6,
   "id": "5c34e51b",
   "metadata": {
    "execution": {
     "iopub.execute_input": "2024-03-11T13:00:27.426277Z",
     "iopub.status.busy": "2024-03-11T13:00:27.425782Z",
     "iopub.status.idle": "2024-03-11T13:00:27.432823Z",
     "shell.execute_reply": "2024-03-11T13:00:27.431929Z"
    },
    "papermill": {
     "duration": 0.024033,
     "end_time": "2024-03-11T13:00:27.435146",
     "exception": false,
     "start_time": "2024-03-11T13:00:27.411113",
     "status": "completed"
    },
    "tags": []
   },
   "outputs": [
    {
     "data": {
      "text/plain": [
       "(8807, 12)"
      ]
     },
     "execution_count": 6,
     "metadata": {},
     "output_type": "execute_result"
    }
   ],
   "source": [
    "df.shape"
   ]
  },
  {
   "cell_type": "code",
   "execution_count": 7,
   "id": "a67a801d",
   "metadata": {
    "execution": {
     "iopub.execute_input": "2024-03-11T13:00:27.464145Z",
     "iopub.status.busy": "2024-03-11T13:00:27.463310Z",
     "iopub.status.idle": "2024-03-11T13:00:27.470634Z",
     "shell.execute_reply": "2024-03-11T13:00:27.469369Z"
    },
    "papermill": {
     "duration": 0.024543,
     "end_time": "2024-03-11T13:00:27.473120",
     "exception": false,
     "start_time": "2024-03-11T13:00:27.448577",
     "status": "completed"
    },
    "tags": []
   },
   "outputs": [
    {
     "data": {
      "text/plain": [
       "['show_id',\n",
       " 'type',\n",
       " 'title',\n",
       " 'director',\n",
       " 'cast',\n",
       " 'country',\n",
       " 'date_added',\n",
       " 'release_year',\n",
       " 'rating',\n",
       " 'duration',\n",
       " 'listed_in',\n",
       " 'description']"
      ]
     },
     "execution_count": 7,
     "metadata": {},
     "output_type": "execute_result"
    }
   ],
   "source": [
    "df.columns.tolist()"
   ]
  },
  {
   "cell_type": "code",
   "execution_count": 8,
   "id": "f635357d",
   "metadata": {
    "execution": {
     "iopub.execute_input": "2024-03-11T13:00:27.503521Z",
     "iopub.status.busy": "2024-03-11T13:00:27.502651Z",
     "iopub.status.idle": "2024-03-11T13:00:27.544964Z",
     "shell.execute_reply": "2024-03-11T13:00:27.544032Z"
    },
    "papermill": {
     "duration": 0.061584,
     "end_time": "2024-03-11T13:00:27.547628",
     "exception": false,
     "start_time": "2024-03-11T13:00:27.486044",
     "status": "completed"
    },
    "tags": []
   },
   "outputs": [
    {
     "data": {
      "text/plain": [
       "0"
      ]
     },
     "execution_count": 8,
     "metadata": {},
     "output_type": "execute_result"
    }
   ],
   "source": [
    "df.duplicated().sum()"
   ]
  },
  {
   "cell_type": "code",
   "execution_count": 9,
   "id": "3e43caf6",
   "metadata": {
    "execution": {
     "iopub.execute_input": "2024-03-11T13:00:27.577680Z",
     "iopub.status.busy": "2024-03-11T13:00:27.576067Z",
     "iopub.status.idle": "2024-03-11T13:00:27.599337Z",
     "shell.execute_reply": "2024-03-11T13:00:27.598550Z"
    },
    "papermill": {
     "duration": 0.040457,
     "end_time": "2024-03-11T13:00:27.601584",
     "exception": false,
     "start_time": "2024-03-11T13:00:27.561127",
     "status": "completed"
    },
    "tags": []
   },
   "outputs": [
    {
     "data": {
      "text/plain": [
       "show_id            0\n",
       "type               0\n",
       "title              0\n",
       "director        2634\n",
       "cast             825\n",
       "country          831\n",
       "date_added        10\n",
       "release_year       0\n",
       "rating             4\n",
       "duration           3\n",
       "listed_in          0\n",
       "description        0\n",
       "dtype: int64"
      ]
     },
     "execution_count": 9,
     "metadata": {},
     "output_type": "execute_result"
    }
   ],
   "source": [
    "df.isna().sum()"
   ]
  },
  {
   "cell_type": "code",
   "execution_count": 10,
   "id": "8e4fcd58",
   "metadata": {
    "execution": {
     "iopub.execute_input": "2024-03-11T13:00:27.631390Z",
     "iopub.status.busy": "2024-03-11T13:00:27.630657Z",
     "iopub.status.idle": "2024-03-11T13:00:27.654493Z",
     "shell.execute_reply": "2024-03-11T13:00:27.653223Z"
    },
    "papermill": {
     "duration": 0.042438,
     "end_time": "2024-03-11T13:00:27.657584",
     "exception": false,
     "start_time": "2024-03-11T13:00:27.615146",
     "status": "completed"
    },
    "tags": []
   },
   "outputs": [],
   "source": [
    "df.dropna(inplace=True)"
   ]
  },
  {
   "cell_type": "code",
   "execution_count": 11,
   "id": "17dfd952",
   "metadata": {
    "execution": {
     "iopub.execute_input": "2024-03-11T13:00:27.686496Z",
     "iopub.status.busy": "2024-03-11T13:00:27.686076Z",
     "iopub.status.idle": "2024-03-11T13:00:27.713981Z",
     "shell.execute_reply": "2024-03-11T13:00:27.713125Z"
    },
    "papermill": {
     "duration": 0.045445,
     "end_time": "2024-03-11T13:00:27.716374",
     "exception": false,
     "start_time": "2024-03-11T13:00:27.670929",
     "status": "completed"
    },
    "tags": []
   },
   "outputs": [
    {
     "name": "stdout",
     "output_type": "stream",
     "text": [
      "<class 'pandas.core.frame.DataFrame'>\n",
      "Int64Index: 5332 entries, 7 to 8806\n",
      "Data columns (total 12 columns):\n",
      " #   Column        Non-Null Count  Dtype \n",
      "---  ------        --------------  ----- \n",
      " 0   show_id       5332 non-null   object\n",
      " 1   type          5332 non-null   object\n",
      " 2   title         5332 non-null   object\n",
      " 3   director      5332 non-null   object\n",
      " 4   cast          5332 non-null   object\n",
      " 5   country       5332 non-null   object\n",
      " 6   date_added    5332 non-null   object\n",
      " 7   release_year  5332 non-null   int64 \n",
      " 8   rating        5332 non-null   object\n",
      " 9   duration      5332 non-null   object\n",
      " 10  listed_in     5332 non-null   object\n",
      " 11  description   5332 non-null   object\n",
      "dtypes: int64(1), object(11)\n",
      "memory usage: 541.5+ KB\n"
     ]
    }
   ],
   "source": [
    "df.info()"
   ]
  },
  {
   "cell_type": "code",
   "execution_count": 12,
   "id": "b17c8209",
   "metadata": {
    "execution": {
     "iopub.execute_input": "2024-03-11T13:00:27.746177Z",
     "iopub.status.busy": "2024-03-11T13:00:27.744896Z",
     "iopub.status.idle": "2024-03-11T13:00:27.755143Z",
     "shell.execute_reply": "2024-03-11T13:00:27.754324Z"
    },
    "papermill": {
     "duration": 0.028241,
     "end_time": "2024-03-11T13:00:27.758192",
     "exception": false,
     "start_time": "2024-03-11T13:00:27.729951",
     "status": "completed"
    },
    "tags": []
   },
   "outputs": [],
   "source": [
    "df.drop(columns=['show_id','title', 'cast', 'description'], inplace=True)"
   ]
  },
  {
   "cell_type": "code",
   "execution_count": 13,
   "id": "e7c955ac",
   "metadata": {
    "execution": {
     "iopub.execute_input": "2024-03-11T13:00:27.787867Z",
     "iopub.status.busy": "2024-03-11T13:00:27.787397Z",
     "iopub.status.idle": "2024-03-11T13:00:27.793402Z",
     "shell.execute_reply": "2024-03-11T13:00:27.792311Z"
    },
    "papermill": {
     "duration": 0.023539,
     "end_time": "2024-03-11T13:00:27.795962",
     "exception": false,
     "start_time": "2024-03-11T13:00:27.772423",
     "status": "completed"
    },
    "tags": []
   },
   "outputs": [],
   "source": [
    "df.rename(columns={'listed_in' : 'category'}, inplace=True)"
   ]
  },
  {
   "cell_type": "code",
   "execution_count": 14,
   "id": "f5ac044b",
   "metadata": {
    "execution": {
     "iopub.execute_input": "2024-03-11T13:00:27.825834Z",
     "iopub.status.busy": "2024-03-11T13:00:27.825132Z",
     "iopub.status.idle": "2024-03-11T13:00:27.839752Z",
     "shell.execute_reply": "2024-03-11T13:00:27.838594Z"
    },
    "papermill": {
     "duration": 0.032589,
     "end_time": "2024-03-11T13:00:27.842179",
     "exception": false,
     "start_time": "2024-03-11T13:00:27.809590",
     "status": "completed"
    },
    "tags": []
   },
   "outputs": [
    {
     "data": {
      "text/html": [
       "<div>\n",
       "<style scoped>\n",
       "    .dataframe tbody tr th:only-of-type {\n",
       "        vertical-align: middle;\n",
       "    }\n",
       "\n",
       "    .dataframe tbody tr th {\n",
       "        vertical-align: top;\n",
       "    }\n",
       "\n",
       "    .dataframe thead th {\n",
       "        text-align: right;\n",
       "    }\n",
       "</style>\n",
       "<table border=\"1\" class=\"dataframe\">\n",
       "  <thead>\n",
       "    <tr style=\"text-align: right;\">\n",
       "      <th></th>\n",
       "      <th>type</th>\n",
       "      <th>director</th>\n",
       "      <th>country</th>\n",
       "      <th>date_added</th>\n",
       "      <th>release_year</th>\n",
       "      <th>rating</th>\n",
       "      <th>duration</th>\n",
       "      <th>category</th>\n",
       "    </tr>\n",
       "  </thead>\n",
       "  <tbody>\n",
       "    <tr>\n",
       "      <th>7</th>\n",
       "      <td>Movie</td>\n",
       "      <td>Haile Gerima</td>\n",
       "      <td>United States, Ghana, Burkina Faso, United Kin...</td>\n",
       "      <td>September 24, 2021</td>\n",
       "      <td>1993</td>\n",
       "      <td>TV-MA</td>\n",
       "      <td>125 min</td>\n",
       "      <td>Dramas, Independent Movies, International Movies</td>\n",
       "    </tr>\n",
       "    <tr>\n",
       "      <th>8</th>\n",
       "      <td>TV Show</td>\n",
       "      <td>Andy Devonshire</td>\n",
       "      <td>United Kingdom</td>\n",
       "      <td>September 24, 2021</td>\n",
       "      <td>2021</td>\n",
       "      <td>TV-14</td>\n",
       "      <td>9 Seasons</td>\n",
       "      <td>British TV Shows, Reality TV</td>\n",
       "    </tr>\n",
       "    <tr>\n",
       "      <th>9</th>\n",
       "      <td>Movie</td>\n",
       "      <td>Theodore Melfi</td>\n",
       "      <td>United States</td>\n",
       "      <td>September 24, 2021</td>\n",
       "      <td>2021</td>\n",
       "      <td>PG-13</td>\n",
       "      <td>104 min</td>\n",
       "      <td>Comedies, Dramas</td>\n",
       "    </tr>\n",
       "    <tr>\n",
       "      <th>12</th>\n",
       "      <td>Movie</td>\n",
       "      <td>Christian Schwochow</td>\n",
       "      <td>Germany, Czech Republic</td>\n",
       "      <td>September 23, 2021</td>\n",
       "      <td>2021</td>\n",
       "      <td>TV-MA</td>\n",
       "      <td>127 min</td>\n",
       "      <td>Dramas, International Movies</td>\n",
       "    </tr>\n",
       "    <tr>\n",
       "      <th>24</th>\n",
       "      <td>Movie</td>\n",
       "      <td>S. Shankar</td>\n",
       "      <td>India</td>\n",
       "      <td>September 21, 2021</td>\n",
       "      <td>1998</td>\n",
       "      <td>TV-14</td>\n",
       "      <td>166 min</td>\n",
       "      <td>Comedies, International Movies, Romantic Movies</td>\n",
       "    </tr>\n",
       "  </tbody>\n",
       "</table>\n",
       "</div>"
      ],
      "text/plain": [
       "       type             director  \\\n",
       "7     Movie         Haile Gerima   \n",
       "8   TV Show      Andy Devonshire   \n",
       "9     Movie       Theodore Melfi   \n",
       "12    Movie  Christian Schwochow   \n",
       "24    Movie           S. Shankar   \n",
       "\n",
       "                                              country          date_added  \\\n",
       "7   United States, Ghana, Burkina Faso, United Kin...  September 24, 2021   \n",
       "8                                      United Kingdom  September 24, 2021   \n",
       "9                                       United States  September 24, 2021   \n",
       "12                            Germany, Czech Republic  September 23, 2021   \n",
       "24                                              India  September 21, 2021   \n",
       "\n",
       "    release_year rating   duration  \\\n",
       "7           1993  TV-MA    125 min   \n",
       "8           2021  TV-14  9 Seasons   \n",
       "9           2021  PG-13    104 min   \n",
       "12          2021  TV-MA    127 min   \n",
       "24          1998  TV-14    166 min   \n",
       "\n",
       "                                            category  \n",
       "7   Dramas, Independent Movies, International Movies  \n",
       "8                       British TV Shows, Reality TV  \n",
       "9                                   Comedies, Dramas  \n",
       "12                      Dramas, International Movies  \n",
       "24   Comedies, International Movies, Romantic Movies  "
      ]
     },
     "execution_count": 14,
     "metadata": {},
     "output_type": "execute_result"
    }
   ],
   "source": [
    "df.head()"
   ]
  },
  {
   "cell_type": "code",
   "execution_count": 15,
   "id": "722e3655",
   "metadata": {
    "execution": {
     "iopub.execute_input": "2024-03-11T13:00:27.872213Z",
     "iopub.status.busy": "2024-03-11T13:00:27.871625Z",
     "iopub.status.idle": "2024-03-11T13:00:27.889774Z",
     "shell.execute_reply": "2024-03-11T13:00:27.888671Z"
    },
    "papermill": {
     "duration": 0.035968,
     "end_time": "2024-03-11T13:00:27.892300",
     "exception": false,
     "start_time": "2024-03-11T13:00:27.856332",
     "status": "completed"
    },
    "tags": []
   },
   "outputs": [
    {
     "data": {
      "text/html": [
       "<div>\n",
       "<style scoped>\n",
       "    .dataframe tbody tr th:only-of-type {\n",
       "        vertical-align: middle;\n",
       "    }\n",
       "\n",
       "    .dataframe tbody tr th {\n",
       "        vertical-align: top;\n",
       "    }\n",
       "\n",
       "    .dataframe thead th {\n",
       "        text-align: right;\n",
       "    }\n",
       "</style>\n",
       "<table border=\"1\" class=\"dataframe\">\n",
       "  <thead>\n",
       "    <tr style=\"text-align: right;\">\n",
       "      <th></th>\n",
       "      <th>type</th>\n",
       "      <th>director</th>\n",
       "      <th>country</th>\n",
       "      <th>date_added</th>\n",
       "      <th>release_year</th>\n",
       "      <th>rating</th>\n",
       "      <th>duration</th>\n",
       "      <th>category</th>\n",
       "    </tr>\n",
       "  </thead>\n",
       "  <tbody>\n",
       "    <tr>\n",
       "      <th>0</th>\n",
       "      <td>Movie</td>\n",
       "      <td>Haile Gerima</td>\n",
       "      <td>United States, Ghana, Burkina Faso, United Kin...</td>\n",
       "      <td>September 24, 2021</td>\n",
       "      <td>1993</td>\n",
       "      <td>TV-MA</td>\n",
       "      <td>125 min</td>\n",
       "      <td>Dramas, Independent Movies, International Movies</td>\n",
       "    </tr>\n",
       "    <tr>\n",
       "      <th>1</th>\n",
       "      <td>TV Show</td>\n",
       "      <td>Andy Devonshire</td>\n",
       "      <td>United Kingdom</td>\n",
       "      <td>September 24, 2021</td>\n",
       "      <td>2021</td>\n",
       "      <td>TV-14</td>\n",
       "      <td>9 Seasons</td>\n",
       "      <td>British TV Shows, Reality TV</td>\n",
       "    </tr>\n",
       "    <tr>\n",
       "      <th>2</th>\n",
       "      <td>Movie</td>\n",
       "      <td>Theodore Melfi</td>\n",
       "      <td>United States</td>\n",
       "      <td>September 24, 2021</td>\n",
       "      <td>2021</td>\n",
       "      <td>PG-13</td>\n",
       "      <td>104 min</td>\n",
       "      <td>Comedies, Dramas</td>\n",
       "    </tr>\n",
       "    <tr>\n",
       "      <th>3</th>\n",
       "      <td>Movie</td>\n",
       "      <td>Christian Schwochow</td>\n",
       "      <td>Germany, Czech Republic</td>\n",
       "      <td>September 23, 2021</td>\n",
       "      <td>2021</td>\n",
       "      <td>TV-MA</td>\n",
       "      <td>127 min</td>\n",
       "      <td>Dramas, International Movies</td>\n",
       "    </tr>\n",
       "    <tr>\n",
       "      <th>4</th>\n",
       "      <td>Movie</td>\n",
       "      <td>S. Shankar</td>\n",
       "      <td>India</td>\n",
       "      <td>September 21, 2021</td>\n",
       "      <td>1998</td>\n",
       "      <td>TV-14</td>\n",
       "      <td>166 min</td>\n",
       "      <td>Comedies, International Movies, Romantic Movies</td>\n",
       "    </tr>\n",
       "    <tr>\n",
       "      <th>...</th>\n",
       "      <td>...</td>\n",
       "      <td>...</td>\n",
       "      <td>...</td>\n",
       "      <td>...</td>\n",
       "      <td>...</td>\n",
       "      <td>...</td>\n",
       "      <td>...</td>\n",
       "      <td>...</td>\n",
       "    </tr>\n",
       "    <tr>\n",
       "      <th>5327</th>\n",
       "      <td>Movie</td>\n",
       "      <td>Majid Al Ansari</td>\n",
       "      <td>United Arab Emirates, Jordan</td>\n",
       "      <td>March 9, 2016</td>\n",
       "      <td>2015</td>\n",
       "      <td>TV-MA</td>\n",
       "      <td>96 min</td>\n",
       "      <td>Dramas, International Movies, Thrillers</td>\n",
       "    </tr>\n",
       "    <tr>\n",
       "      <th>5328</th>\n",
       "      <td>Movie</td>\n",
       "      <td>David Fincher</td>\n",
       "      <td>United States</td>\n",
       "      <td>November 20, 2019</td>\n",
       "      <td>2007</td>\n",
       "      <td>R</td>\n",
       "      <td>158 min</td>\n",
       "      <td>Cult Movies, Dramas, Thrillers</td>\n",
       "    </tr>\n",
       "    <tr>\n",
       "      <th>5329</th>\n",
       "      <td>Movie</td>\n",
       "      <td>Ruben Fleischer</td>\n",
       "      <td>United States</td>\n",
       "      <td>November 1, 2019</td>\n",
       "      <td>2009</td>\n",
       "      <td>R</td>\n",
       "      <td>88 min</td>\n",
       "      <td>Comedies, Horror Movies</td>\n",
       "    </tr>\n",
       "    <tr>\n",
       "      <th>5330</th>\n",
       "      <td>Movie</td>\n",
       "      <td>Peter Hewitt</td>\n",
       "      <td>United States</td>\n",
       "      <td>January 11, 2020</td>\n",
       "      <td>2006</td>\n",
       "      <td>PG</td>\n",
       "      <td>88 min</td>\n",
       "      <td>Children &amp; Family Movies, Comedies</td>\n",
       "    </tr>\n",
       "    <tr>\n",
       "      <th>5331</th>\n",
       "      <td>Movie</td>\n",
       "      <td>Mozez Singh</td>\n",
       "      <td>India</td>\n",
       "      <td>March 2, 2019</td>\n",
       "      <td>2015</td>\n",
       "      <td>TV-14</td>\n",
       "      <td>111 min</td>\n",
       "      <td>Dramas, International Movies, Music &amp; Musicals</td>\n",
       "    </tr>\n",
       "  </tbody>\n",
       "</table>\n",
       "<p>5332 rows × 8 columns</p>\n",
       "</div>"
      ],
      "text/plain": [
       "         type             director  \\\n",
       "0       Movie         Haile Gerima   \n",
       "1     TV Show      Andy Devonshire   \n",
       "2       Movie       Theodore Melfi   \n",
       "3       Movie  Christian Schwochow   \n",
       "4       Movie           S. Shankar   \n",
       "...       ...                  ...   \n",
       "5327    Movie      Majid Al Ansari   \n",
       "5328    Movie        David Fincher   \n",
       "5329    Movie      Ruben Fleischer   \n",
       "5330    Movie         Peter Hewitt   \n",
       "5331    Movie          Mozez Singh   \n",
       "\n",
       "                                                country          date_added  \\\n",
       "0     United States, Ghana, Burkina Faso, United Kin...  September 24, 2021   \n",
       "1                                        United Kingdom  September 24, 2021   \n",
       "2                                         United States  September 24, 2021   \n",
       "3                               Germany, Czech Republic  September 23, 2021   \n",
       "4                                                 India  September 21, 2021   \n",
       "...                                                 ...                 ...   \n",
       "5327                       United Arab Emirates, Jordan       March 9, 2016   \n",
       "5328                                      United States   November 20, 2019   \n",
       "5329                                      United States    November 1, 2019   \n",
       "5330                                      United States    January 11, 2020   \n",
       "5331                                              India       March 2, 2019   \n",
       "\n",
       "      release_year rating   duration  \\\n",
       "0             1993  TV-MA    125 min   \n",
       "1             2021  TV-14  9 Seasons   \n",
       "2             2021  PG-13    104 min   \n",
       "3             2021  TV-MA    127 min   \n",
       "4             1998  TV-14    166 min   \n",
       "...            ...    ...        ...   \n",
       "5327          2015  TV-MA     96 min   \n",
       "5328          2007      R    158 min   \n",
       "5329          2009      R     88 min   \n",
       "5330          2006     PG     88 min   \n",
       "5331          2015  TV-14    111 min   \n",
       "\n",
       "                                              category  \n",
       "0     Dramas, Independent Movies, International Movies  \n",
       "1                         British TV Shows, Reality TV  \n",
       "2                                     Comedies, Dramas  \n",
       "3                         Dramas, International Movies  \n",
       "4      Comedies, International Movies, Romantic Movies  \n",
       "...                                                ...  \n",
       "5327           Dramas, International Movies, Thrillers  \n",
       "5328                    Cult Movies, Dramas, Thrillers  \n",
       "5329                           Comedies, Horror Movies  \n",
       "5330                Children & Family Movies, Comedies  \n",
       "5331    Dramas, International Movies, Music & Musicals  \n",
       "\n",
       "[5332 rows x 8 columns]"
      ]
     },
     "execution_count": 15,
     "metadata": {},
     "output_type": "execute_result"
    }
   ],
   "source": [
    "df.reset_index(drop=True)"
   ]
  },
  {
   "cell_type": "code",
   "execution_count": 16,
   "id": "3478efb4",
   "metadata": {
    "execution": {
     "iopub.execute_input": "2024-03-11T13:00:27.923238Z",
     "iopub.status.busy": "2024-03-11T13:00:27.922786Z",
     "iopub.status.idle": "2024-03-11T13:00:27.946651Z",
     "shell.execute_reply": "2024-03-11T13:00:27.945646Z"
    },
    "papermill": {
     "duration": 0.042166,
     "end_time": "2024-03-11T13:00:27.948973",
     "exception": false,
     "start_time": "2024-03-11T13:00:27.906807",
     "status": "completed"
    },
    "tags": []
   },
   "outputs": [],
   "source": [
    "df['date_added'] = pd.to_datetime(df['date_added'], errors='coerce', infer_datetime_format=True)"
   ]
  },
  {
   "cell_type": "code",
   "execution_count": 17,
   "id": "e1d80487",
   "metadata": {
    "execution": {
     "iopub.execute_input": "2024-03-11T13:00:27.980036Z",
     "iopub.status.busy": "2024-03-11T13:00:27.979221Z",
     "iopub.status.idle": "2024-03-11T13:00:27.995674Z",
     "shell.execute_reply": "2024-03-11T13:00:27.994011Z"
    },
    "papermill": {
     "duration": 0.034828,
     "end_time": "2024-03-11T13:00:27.998481",
     "exception": false,
     "start_time": "2024-03-11T13:00:27.963653",
     "status": "completed"
    },
    "tags": []
   },
   "outputs": [
    {
     "name": "stdout",
     "output_type": "stream",
     "text": [
      "<class 'pandas.core.frame.DataFrame'>\n",
      "Int64Index: 5332 entries, 7 to 8806\n",
      "Data columns (total 8 columns):\n",
      " #   Column        Non-Null Count  Dtype         \n",
      "---  ------        --------------  -----         \n",
      " 0   type          5332 non-null   object        \n",
      " 1   director      5332 non-null   object        \n",
      " 2   country       5332 non-null   object        \n",
      " 3   date_added    5328 non-null   datetime64[ns]\n",
      " 4   release_year  5332 non-null   int64         \n",
      " 5   rating        5332 non-null   object        \n",
      " 6   duration      5332 non-null   object        \n",
      " 7   category      5332 non-null   object        \n",
      "dtypes: datetime64[ns](1), int64(1), object(6)\n",
      "memory usage: 374.9+ KB\n"
     ]
    }
   ],
   "source": [
    "df.info()"
   ]
  },
  {
   "cell_type": "code",
   "execution_count": 18,
   "id": "5a3b25bd",
   "metadata": {
    "execution": {
     "iopub.execute_input": "2024-03-11T13:00:28.029498Z",
     "iopub.status.busy": "2024-03-11T13:00:28.028803Z",
     "iopub.status.idle": "2024-03-11T13:00:28.038106Z",
     "shell.execute_reply": "2024-03-11T13:00:28.036843Z"
    },
    "papermill": {
     "duration": 0.027846,
     "end_time": "2024-03-11T13:00:28.040614",
     "exception": false,
     "start_time": "2024-03-11T13:00:28.012768",
     "status": "completed"
    },
    "tags": []
   },
   "outputs": [
    {
     "data": {
      "text/plain": [
       "Movie      5185\n",
       "TV Show     147\n",
       "Name: type, dtype: int64"
      ]
     },
     "execution_count": 18,
     "metadata": {},
     "output_type": "execute_result"
    }
   ],
   "source": [
    "types =  df['type'].value_counts()\n",
    "types"
   ]
  },
  {
   "cell_type": "code",
   "execution_count": 38,
   "id": "64627325",
   "metadata": {
    "execution": {
     "iopub.execute_input": "2024-03-11T13:00:28.072162Z",
     "iopub.status.busy": "2024-03-11T13:00:28.071736Z",
     "iopub.status.idle": "2024-03-11T13:00:28.091552Z",
     "shell.execute_reply": "2024-03-11T13:00:28.090377Z"
    },
    "papermill": {
     "duration": 0.039285,
     "end_time": "2024-03-11T13:00:28.094251",
     "exception": false,
     "start_time": "2024-03-11T13:00:28.054966",
     "status": "completed"
    },
    "tags": []
   },
   "outputs": [
    {
     "data": {
      "text/html": [
       "<div>\n",
       "<style scoped>\n",
       "    .dataframe tbody tr th:only-of-type {\n",
       "        vertical-align: middle;\n",
       "    }\n",
       "\n",
       "    .dataframe tbody tr th {\n",
       "        vertical-align: top;\n",
       "    }\n",
       "\n",
       "    .dataframe thead th {\n",
       "        text-align: right;\n",
       "    }\n",
       "</style>\n",
       "<table border=\"1\" class=\"dataframe\">\n",
       "  <thead>\n",
       "    <tr style=\"text-align: right;\">\n",
       "      <th></th>\n",
       "      <th>index</th>\n",
       "      <th>director</th>\n",
       "    </tr>\n",
       "  </thead>\n",
       "  <tbody>\n",
       "    <tr>\n",
       "      <th>0</th>\n",
       "      <td>Raúl Campos, Jan Suter</td>\n",
       "      <td>18</td>\n",
       "    </tr>\n",
       "    <tr>\n",
       "      <th>1</th>\n",
       "      <td>Marcus Raboy</td>\n",
       "      <td>14</td>\n",
       "    </tr>\n",
       "    <tr>\n",
       "      <th>2</th>\n",
       "      <td>Jay Karas</td>\n",
       "      <td>14</td>\n",
       "    </tr>\n",
       "    <tr>\n",
       "      <th>3</th>\n",
       "      <td>Cathy Garcia-Molina</td>\n",
       "      <td>13</td>\n",
       "    </tr>\n",
       "    <tr>\n",
       "      <th>4</th>\n",
       "      <td>Jay Chapman</td>\n",
       "      <td>12</td>\n",
       "    </tr>\n",
       "    <tr>\n",
       "      <th>5</th>\n",
       "      <td>Youssef Chahine</td>\n",
       "      <td>12</td>\n",
       "    </tr>\n",
       "    <tr>\n",
       "      <th>6</th>\n",
       "      <td>Martin Scorsese</td>\n",
       "      <td>12</td>\n",
       "    </tr>\n",
       "    <tr>\n",
       "      <th>7</th>\n",
       "      <td>Steven Spielberg</td>\n",
       "      <td>11</td>\n",
       "    </tr>\n",
       "    <tr>\n",
       "      <th>8</th>\n",
       "      <td>Don Michael Paul</td>\n",
       "      <td>10</td>\n",
       "    </tr>\n",
       "    <tr>\n",
       "      <th>9</th>\n",
       "      <td>David Dhawan</td>\n",
       "      <td>9</td>\n",
       "    </tr>\n",
       "  </tbody>\n",
       "</table>\n",
       "</div>"
      ],
      "text/plain": [
       "                    index  director\n",
       "0  Raúl Campos, Jan Suter        18\n",
       "1            Marcus Raboy        14\n",
       "2               Jay Karas        14\n",
       "3     Cathy Garcia-Molina        13\n",
       "4             Jay Chapman        12\n",
       "5         Youssef Chahine        12\n",
       "6         Martin Scorsese        12\n",
       "7        Steven Spielberg        11\n",
       "8        Don Michael Paul        10\n",
       "9            David Dhawan         9"
      ]
     },
     "execution_count": 38,
     "metadata": {},
     "output_type": "execute_result"
    }
   ],
   "source": [
    "top_10_directors_movie = df['director'][df['type'] == 'Movie'].value_counts().sort_values(ascending=False).iloc[0:10].reset_index()\n",
    "top_10_directors_movie"
   ]
  },
  {
   "cell_type": "code",
   "execution_count": 34,
   "id": "66826c93",
   "metadata": {
    "execution": {
     "iopub.execute_input": "2024-03-11T13:00:28.127444Z",
     "iopub.status.busy": "2024-03-11T13:00:28.127032Z",
     "iopub.status.idle": "2024-03-11T13:00:28.142158Z",
     "shell.execute_reply": "2024-03-11T13:00:28.140684Z"
    },
    "papermill": {
     "duration": 0.035306,
     "end_time": "2024-03-11T13:00:28.145143",
     "exception": false,
     "start_time": "2024-03-11T13:00:28.109837",
     "status": "completed"
    },
    "tags": []
   },
   "outputs": [
    {
     "data": {
      "text/html": [
       "<div>\n",
       "<style scoped>\n",
       "    .dataframe tbody tr th:only-of-type {\n",
       "        vertical-align: middle;\n",
       "    }\n",
       "\n",
       "    .dataframe tbody tr th {\n",
       "        vertical-align: top;\n",
       "    }\n",
       "\n",
       "    .dataframe thead th {\n",
       "        text-align: right;\n",
       "    }\n",
       "</style>\n",
       "<table border=\"1\" class=\"dataframe\">\n",
       "  <thead>\n",
       "    <tr style=\"text-align: right;\">\n",
       "      <th></th>\n",
       "      <th>index</th>\n",
       "      <th>director</th>\n",
       "    </tr>\n",
       "  </thead>\n",
       "  <tbody>\n",
       "    <tr>\n",
       "      <th>0</th>\n",
       "      <td>Alastair Fothergill</td>\n",
       "      <td>3</td>\n",
       "    </tr>\n",
       "    <tr>\n",
       "      <th>1</th>\n",
       "      <td>Iginio Straffi</td>\n",
       "      <td>2</td>\n",
       "    </tr>\n",
       "    <tr>\n",
       "      <th>2</th>\n",
       "      <td>Rob Seidenglanz</td>\n",
       "      <td>2</td>\n",
       "    </tr>\n",
       "    <tr>\n",
       "      <th>3</th>\n",
       "      <td>Shin Won-ho</td>\n",
       "      <td>2</td>\n",
       "    </tr>\n",
       "    <tr>\n",
       "      <th>4</th>\n",
       "      <td>Stan Lathan</td>\n",
       "      <td>2</td>\n",
       "    </tr>\n",
       "    <tr>\n",
       "      <th>5</th>\n",
       "      <td>Simon Frederick</td>\n",
       "      <td>1</td>\n",
       "    </tr>\n",
       "    <tr>\n",
       "      <th>6</th>\n",
       "      <td>Daniel Minahan</td>\n",
       "      <td>1</td>\n",
       "    </tr>\n",
       "    <tr>\n",
       "      <th>7</th>\n",
       "      <td>Takuya Igarashi</td>\n",
       "      <td>1</td>\n",
       "    </tr>\n",
       "    <tr>\n",
       "      <th>8</th>\n",
       "      <td>Ally Pankiw</td>\n",
       "      <td>1</td>\n",
       "    </tr>\n",
       "    <tr>\n",
       "      <th>9</th>\n",
       "      <td>Jay Oliva</td>\n",
       "      <td>1</td>\n",
       "    </tr>\n",
       "  </tbody>\n",
       "</table>\n",
       "</div>"
      ],
      "text/plain": [
       "                 index  director\n",
       "0  Alastair Fothergill         3\n",
       "1       Iginio Straffi         2\n",
       "2      Rob Seidenglanz         2\n",
       "3          Shin Won-ho         2\n",
       "4          Stan Lathan         2\n",
       "5      Simon Frederick         1\n",
       "6       Daniel Minahan         1\n",
       "7      Takuya Igarashi         1\n",
       "8          Ally Pankiw         1\n",
       "9            Jay Oliva         1"
      ]
     },
     "execution_count": 34,
     "metadata": {},
     "output_type": "execute_result"
    }
   ],
   "source": [
    "top_10_directors_TVShow = df['director'][df['type'] == 'TV Show'].value_counts().sort_values(ascending=False).iloc[0:10].reset_index()\n",
    "top_10_directors_TVShow"
   ]
  },
  {
   "cell_type": "code",
   "execution_count": 21,
   "id": "c5383f09",
   "metadata": {
    "execution": {
     "iopub.execute_input": "2024-03-11T13:00:28.179278Z",
     "iopub.status.busy": "2024-03-11T13:00:28.178201Z",
     "iopub.status.idle": "2024-03-11T13:00:28.194724Z",
     "shell.execute_reply": "2024-03-11T13:00:28.193693Z"
    },
    "papermill": {
     "duration": 0.036015,
     "end_time": "2024-03-11T13:00:28.196871",
     "exception": false,
     "start_time": "2024-03-11T13:00:28.160856",
     "status": "completed"
    },
    "tags": []
   },
   "outputs": [
    {
     "data": {
      "text/html": [
       "<div>\n",
       "<style scoped>\n",
       "    .dataframe tbody tr th:only-of-type {\n",
       "        vertical-align: middle;\n",
       "    }\n",
       "\n",
       "    .dataframe tbody tr th {\n",
       "        vertical-align: top;\n",
       "    }\n",
       "\n",
       "    .dataframe thead th {\n",
       "        text-align: right;\n",
       "    }\n",
       "</style>\n",
       "<table border=\"1\" class=\"dataframe\">\n",
       "  <thead>\n",
       "    <tr style=\"text-align: right;\">\n",
       "      <th></th>\n",
       "      <th>index</th>\n",
       "      <th>country</th>\n",
       "    </tr>\n",
       "  </thead>\n",
       "  <tbody>\n",
       "    <tr>\n",
       "      <th>0</th>\n",
       "      <td>United States</td>\n",
       "      <td>1819</td>\n",
       "    </tr>\n",
       "    <tr>\n",
       "      <th>1</th>\n",
       "      <td>India</td>\n",
       "      <td>868</td>\n",
       "    </tr>\n",
       "    <tr>\n",
       "      <th>2</th>\n",
       "      <td>United Kingdom</td>\n",
       "      <td>164</td>\n",
       "    </tr>\n",
       "    <tr>\n",
       "      <th>3</th>\n",
       "      <td>Canada</td>\n",
       "      <td>104</td>\n",
       "    </tr>\n",
       "    <tr>\n",
       "      <th>4</th>\n",
       "      <td>Egypt</td>\n",
       "      <td>90</td>\n",
       "    </tr>\n",
       "    <tr>\n",
       "      <th>5</th>\n",
       "      <td>Nigeria</td>\n",
       "      <td>84</td>\n",
       "    </tr>\n",
       "    <tr>\n",
       "      <th>6</th>\n",
       "      <td>Spain</td>\n",
       "      <td>84</td>\n",
       "    </tr>\n",
       "    <tr>\n",
       "      <th>7</th>\n",
       "      <td>Indonesia</td>\n",
       "      <td>76</td>\n",
       "    </tr>\n",
       "    <tr>\n",
       "      <th>8</th>\n",
       "      <td>Turkey</td>\n",
       "      <td>74</td>\n",
       "    </tr>\n",
       "    <tr>\n",
       "      <th>9</th>\n",
       "      <td>Japan</td>\n",
       "      <td>73</td>\n",
       "    </tr>\n",
       "  </tbody>\n",
       "</table>\n",
       "</div>"
      ],
      "text/plain": [
       "            index  country\n",
       "0   United States     1819\n",
       "1           India      868\n",
       "2  United Kingdom      164\n",
       "3          Canada      104\n",
       "4           Egypt       90\n",
       "5         Nigeria       84\n",
       "6           Spain       84\n",
       "7       Indonesia       76\n",
       "8          Turkey       74\n",
       "9           Japan       73"
      ]
     },
     "execution_count": 21,
     "metadata": {},
     "output_type": "execute_result"
    }
   ],
   "source": [
    "top_10_countries_movie = df['country'][df['type'] == 'Movie'].value_counts().sort_values(ascending=False).iloc[0:10].reset_index()\n",
    "top_10_countries_movie"
   ]
  },
  {
   "cell_type": "code",
   "execution_count": 22,
   "id": "01b993ae",
   "metadata": {
    "execution": {
     "iopub.execute_input": "2024-03-11T13:00:28.229907Z",
     "iopub.status.busy": "2024-03-11T13:00:28.229054Z",
     "iopub.status.idle": "2024-03-11T13:00:28.244613Z",
     "shell.execute_reply": "2024-03-11T13:00:28.243433Z"
    },
    "papermill": {
     "duration": 0.035234,
     "end_time": "2024-03-11T13:00:28.247163",
     "exception": false,
     "start_time": "2024-03-11T13:00:28.211929",
     "status": "completed"
    },
    "tags": []
   },
   "outputs": [
    {
     "data": {
      "text/html": [
       "<div>\n",
       "<style scoped>\n",
       "    .dataframe tbody tr th:only-of-type {\n",
       "        vertical-align: middle;\n",
       "    }\n",
       "\n",
       "    .dataframe tbody tr th {\n",
       "        vertical-align: top;\n",
       "    }\n",
       "\n",
       "    .dataframe thead th {\n",
       "        text-align: right;\n",
       "    }\n",
       "</style>\n",
       "<table border=\"1\" class=\"dataframe\">\n",
       "  <thead>\n",
       "    <tr style=\"text-align: right;\">\n",
       "      <th></th>\n",
       "      <th>index</th>\n",
       "      <th>country</th>\n",
       "    </tr>\n",
       "  </thead>\n",
       "  <tbody>\n",
       "    <tr>\n",
       "      <th>0</th>\n",
       "      <td>United States</td>\n",
       "      <td>27</td>\n",
       "    </tr>\n",
       "    <tr>\n",
       "      <th>1</th>\n",
       "      <td>United Kingdom</td>\n",
       "      <td>19</td>\n",
       "    </tr>\n",
       "    <tr>\n",
       "      <th>2</th>\n",
       "      <td>Japan</td>\n",
       "      <td>10</td>\n",
       "    </tr>\n",
       "    <tr>\n",
       "      <th>3</th>\n",
       "      <td>South Korea</td>\n",
       "      <td>10</td>\n",
       "    </tr>\n",
       "    <tr>\n",
       "      <th>4</th>\n",
       "      <td>Spain</td>\n",
       "      <td>7</td>\n",
       "    </tr>\n",
       "    <tr>\n",
       "      <th>5</th>\n",
       "      <td>India</td>\n",
       "      <td>7</td>\n",
       "    </tr>\n",
       "    <tr>\n",
       "      <th>6</th>\n",
       "      <td>Taiwan</td>\n",
       "      <td>7</td>\n",
       "    </tr>\n",
       "    <tr>\n",
       "      <th>7</th>\n",
       "      <td>France</td>\n",
       "      <td>5</td>\n",
       "    </tr>\n",
       "    <tr>\n",
       "      <th>8</th>\n",
       "      <td>Turkey</td>\n",
       "      <td>5</td>\n",
       "    </tr>\n",
       "    <tr>\n",
       "      <th>9</th>\n",
       "      <td>Thailand</td>\n",
       "      <td>5</td>\n",
       "    </tr>\n",
       "  </tbody>\n",
       "</table>\n",
       "</div>"
      ],
      "text/plain": [
       "            index  country\n",
       "0   United States       27\n",
       "1  United Kingdom       19\n",
       "2           Japan       10\n",
       "3     South Korea       10\n",
       "4           Spain        7\n",
       "5           India        7\n",
       "6          Taiwan        7\n",
       "7          France        5\n",
       "8          Turkey        5\n",
       "9        Thailand        5"
      ]
     },
     "execution_count": 22,
     "metadata": {},
     "output_type": "execute_result"
    }
   ],
   "source": [
    "top_10_countries_TVShow = df['country'][df['type'] == 'TV Show'].value_counts().sort_values(ascending=False).iloc[0:10].reset_index()\n",
    "top_10_countries_TVShow"
   ]
  },
  {
   "cell_type": "code",
   "execution_count": 23,
   "id": "428a66d6",
   "metadata": {
    "execution": {
     "iopub.execute_input": "2024-03-11T13:00:28.280771Z",
     "iopub.status.busy": "2024-03-11T13:00:28.280306Z",
     "iopub.status.idle": "2024-03-11T13:00:28.298400Z",
     "shell.execute_reply": "2024-03-11T13:00:28.296943Z"
    },
    "papermill": {
     "duration": 0.037825,
     "end_time": "2024-03-11T13:00:28.300837",
     "exception": false,
     "start_time": "2024-03-11T13:00:28.263012",
     "status": "completed"
    },
    "tags": []
   },
   "outputs": [
    {
     "data": {
      "text/html": [
       "<div>\n",
       "<style scoped>\n",
       "    .dataframe tbody tr th:only-of-type {\n",
       "        vertical-align: middle;\n",
       "    }\n",
       "\n",
       "    .dataframe tbody tr th {\n",
       "        vertical-align: top;\n",
       "    }\n",
       "\n",
       "    .dataframe thead th {\n",
       "        text-align: right;\n",
       "    }\n",
       "</style>\n",
       "<table border=\"1\" class=\"dataframe\">\n",
       "  <thead>\n",
       "    <tr style=\"text-align: right;\">\n",
       "      <th></th>\n",
       "      <th>index</th>\n",
       "      <th>rating</th>\n",
       "    </tr>\n",
       "  </thead>\n",
       "  <tbody>\n",
       "    <tr>\n",
       "      <th>0</th>\n",
       "      <td>TV-MA</td>\n",
       "      <td>1741</td>\n",
       "    </tr>\n",
       "    <tr>\n",
       "      <th>1</th>\n",
       "      <td>TV-14</td>\n",
       "      <td>1177</td>\n",
       "    </tr>\n",
       "    <tr>\n",
       "      <th>2</th>\n",
       "      <td>R</td>\n",
       "      <td>778</td>\n",
       "    </tr>\n",
       "    <tr>\n",
       "      <th>3</th>\n",
       "      <td>PG-13</td>\n",
       "      <td>470</td>\n",
       "    </tr>\n",
       "    <tr>\n",
       "      <th>4</th>\n",
       "      <td>TV-PG</td>\n",
       "      <td>416</td>\n",
       "    </tr>\n",
       "    <tr>\n",
       "      <th>5</th>\n",
       "      <td>PG</td>\n",
       "      <td>275</td>\n",
       "    </tr>\n",
       "    <tr>\n",
       "      <th>6</th>\n",
       "      <td>TV-G</td>\n",
       "      <td>81</td>\n",
       "    </tr>\n",
       "    <tr>\n",
       "      <th>7</th>\n",
       "      <td>TV-Y</td>\n",
       "      <td>71</td>\n",
       "    </tr>\n",
       "    <tr>\n",
       "      <th>8</th>\n",
       "      <td>TV-Y7</td>\n",
       "      <td>70</td>\n",
       "    </tr>\n",
       "    <tr>\n",
       "      <th>9</th>\n",
       "      <td>NR</td>\n",
       "      <td>58</td>\n",
       "    </tr>\n",
       "  </tbody>\n",
       "</table>\n",
       "</div>"
      ],
      "text/plain": [
       "   index  rating\n",
       "0  TV-MA    1741\n",
       "1  TV-14    1177\n",
       "2      R     778\n",
       "3  PG-13     470\n",
       "4  TV-PG     416\n",
       "5     PG     275\n",
       "6   TV-G      81\n",
       "7   TV-Y      71\n",
       "8  TV-Y7      70\n",
       "9     NR      58"
      ]
     },
     "execution_count": 23,
     "metadata": {},
     "output_type": "execute_result"
    }
   ],
   "source": [
    "top_10_rating_movie = df['rating'][df['type'] == 'Movie'].value_counts().sort_values(ascending=False).iloc[0:10].reset_index()\n",
    "top_10_rating_movie"
   ]
  },
  {
   "cell_type": "code",
   "execution_count": 24,
   "id": "353aa06c",
   "metadata": {
    "execution": {
     "iopub.execute_input": "2024-03-11T13:00:28.336497Z",
     "iopub.status.busy": "2024-03-11T13:00:28.335704Z",
     "iopub.status.idle": "2024-03-11T13:00:28.350421Z",
     "shell.execute_reply": "2024-03-11T13:00:28.349245Z"
    },
    "papermill": {
     "duration": 0.03643,
     "end_time": "2024-03-11T13:00:28.353105",
     "exception": false,
     "start_time": "2024-03-11T13:00:28.316675",
     "status": "completed"
    },
    "tags": []
   },
   "outputs": [
    {
     "data": {
      "text/html": [
       "<div>\n",
       "<style scoped>\n",
       "    .dataframe tbody tr th:only-of-type {\n",
       "        vertical-align: middle;\n",
       "    }\n",
       "\n",
       "    .dataframe tbody tr th {\n",
       "        vertical-align: top;\n",
       "    }\n",
       "\n",
       "    .dataframe thead th {\n",
       "        text-align: right;\n",
       "    }\n",
       "</style>\n",
       "<table border=\"1\" class=\"dataframe\">\n",
       "  <thead>\n",
       "    <tr style=\"text-align: right;\">\n",
       "      <th></th>\n",
       "      <th>index</th>\n",
       "      <th>rating</th>\n",
       "    </tr>\n",
       "  </thead>\n",
       "  <tbody>\n",
       "    <tr>\n",
       "      <th>0</th>\n",
       "      <td>TV-MA</td>\n",
       "      <td>81</td>\n",
       "    </tr>\n",
       "    <tr>\n",
       "      <th>1</th>\n",
       "      <td>TV-14</td>\n",
       "      <td>37</td>\n",
       "    </tr>\n",
       "    <tr>\n",
       "      <th>2</th>\n",
       "      <td>TV-PG</td>\n",
       "      <td>15</td>\n",
       "    </tr>\n",
       "    <tr>\n",
       "      <th>3</th>\n",
       "      <td>TV-Y7</td>\n",
       "      <td>6</td>\n",
       "    </tr>\n",
       "    <tr>\n",
       "      <th>4</th>\n",
       "      <td>TV-Y</td>\n",
       "      <td>5</td>\n",
       "    </tr>\n",
       "    <tr>\n",
       "      <th>5</th>\n",
       "      <td>TV-G</td>\n",
       "      <td>3</td>\n",
       "    </tr>\n",
       "  </tbody>\n",
       "</table>\n",
       "</div>"
      ],
      "text/plain": [
       "   index  rating\n",
       "0  TV-MA      81\n",
       "1  TV-14      37\n",
       "2  TV-PG      15\n",
       "3  TV-Y7       6\n",
       "4   TV-Y       5\n",
       "5   TV-G       3"
      ]
     },
     "execution_count": 24,
     "metadata": {},
     "output_type": "execute_result"
    }
   ],
   "source": [
    "top_10_rating_tvshow = df['rating'][df['type'] == 'TV Show'].value_counts().sort_values(ascending=False).iloc[0:10].reset_index()\n",
    "top_10_rating_tvshow"
   ]
  },
  {
   "cell_type": "code",
   "execution_count": 25,
   "id": "241e9bc3",
   "metadata": {
    "execution": {
     "iopub.execute_input": "2024-03-11T13:00:28.390459Z",
     "iopub.status.busy": "2024-03-11T13:00:28.389945Z",
     "iopub.status.idle": "2024-03-11T13:00:28.408764Z",
     "shell.execute_reply": "2024-03-11T13:00:28.407476Z"
    },
    "papermill": {
     "duration": 0.04007,
     "end_time": "2024-03-11T13:00:28.411163",
     "exception": false,
     "start_time": "2024-03-11T13:00:28.371093",
     "status": "completed"
    },
    "tags": []
   },
   "outputs": [
    {
     "data": {
      "text/html": [
       "<div>\n",
       "<style scoped>\n",
       "    .dataframe tbody tr th:only-of-type {\n",
       "        vertical-align: middle;\n",
       "    }\n",
       "\n",
       "    .dataframe tbody tr th {\n",
       "        vertical-align: top;\n",
       "    }\n",
       "\n",
       "    .dataframe thead th {\n",
       "        text-align: right;\n",
       "    }\n",
       "</style>\n",
       "<table border=\"1\" class=\"dataframe\">\n",
       "  <thead>\n",
       "    <tr style=\"text-align: right;\">\n",
       "      <th></th>\n",
       "      <th>index</th>\n",
       "      <th>category</th>\n",
       "    </tr>\n",
       "  </thead>\n",
       "  <tbody>\n",
       "    <tr>\n",
       "      <th>0</th>\n",
       "      <td>Dramas, International Movies</td>\n",
       "      <td>336</td>\n",
       "    </tr>\n",
       "    <tr>\n",
       "      <th>1</th>\n",
       "      <td>Stand-Up Comedy</td>\n",
       "      <td>286</td>\n",
       "    </tr>\n",
       "    <tr>\n",
       "      <th>2</th>\n",
       "      <td>Comedies, Dramas, International Movies</td>\n",
       "      <td>257</td>\n",
       "    </tr>\n",
       "    <tr>\n",
       "      <th>3</th>\n",
       "      <td>Dramas, Independent Movies, International Movies</td>\n",
       "      <td>243</td>\n",
       "    </tr>\n",
       "    <tr>\n",
       "      <th>4</th>\n",
       "      <td>Children &amp; Family Movies, Comedies</td>\n",
       "      <td>179</td>\n",
       "    </tr>\n",
       "    <tr>\n",
       "      <th>5</th>\n",
       "      <td>Dramas, International Movies, Romantic Movies</td>\n",
       "      <td>160</td>\n",
       "    </tr>\n",
       "    <tr>\n",
       "      <th>6</th>\n",
       "      <td>Documentaries</td>\n",
       "      <td>156</td>\n",
       "    </tr>\n",
       "    <tr>\n",
       "      <th>7</th>\n",
       "      <td>Comedies, International Movies</td>\n",
       "      <td>152</td>\n",
       "    </tr>\n",
       "    <tr>\n",
       "      <th>8</th>\n",
       "      <td>Comedies, International Movies, Romantic Movies</td>\n",
       "      <td>143</td>\n",
       "    </tr>\n",
       "    <tr>\n",
       "      <th>9</th>\n",
       "      <td>Dramas</td>\n",
       "      <td>133</td>\n",
       "    </tr>\n",
       "  </tbody>\n",
       "</table>\n",
       "</div>"
      ],
      "text/plain": [
       "                                              index  category\n",
       "0                      Dramas, International Movies       336\n",
       "1                                   Stand-Up Comedy       286\n",
       "2            Comedies, Dramas, International Movies       257\n",
       "3  Dramas, Independent Movies, International Movies       243\n",
       "4                Children & Family Movies, Comedies       179\n",
       "5     Dramas, International Movies, Romantic Movies       160\n",
       "6                                     Documentaries       156\n",
       "7                    Comedies, International Movies       152\n",
       "8   Comedies, International Movies, Romantic Movies       143\n",
       "9                                            Dramas       133"
      ]
     },
     "execution_count": 25,
     "metadata": {},
     "output_type": "execute_result"
    }
   ],
   "source": [
    "top_10_category_moive = df['category'][df['type'] == 'Movie'].value_counts().sort_values(ascending=False).iloc[0:10].reset_index()\n",
    "top_10_category_moive"
   ]
  },
  {
   "cell_type": "code",
   "execution_count": 26,
   "id": "0526a1cc",
   "metadata": {
    "execution": {
     "iopub.execute_input": "2024-03-11T13:00:28.448534Z",
     "iopub.status.busy": "2024-03-11T13:00:28.447129Z",
     "iopub.status.idle": "2024-03-11T13:00:28.461718Z",
     "shell.execute_reply": "2024-03-11T13:00:28.460896Z"
    },
    "papermill": {
     "duration": 0.035568,
     "end_time": "2024-03-11T13:00:28.464037",
     "exception": false,
     "start_time": "2024-03-11T13:00:28.428469",
     "status": "completed"
    },
    "tags": []
   },
   "outputs": [
    {
     "data": {
      "text/html": [
       "<div>\n",
       "<style scoped>\n",
       "    .dataframe tbody tr th:only-of-type {\n",
       "        vertical-align: middle;\n",
       "    }\n",
       "\n",
       "    .dataframe tbody tr th {\n",
       "        vertical-align: top;\n",
       "    }\n",
       "\n",
       "    .dataframe thead th {\n",
       "        text-align: right;\n",
       "    }\n",
       "</style>\n",
       "<table border=\"1\" class=\"dataframe\">\n",
       "  <thead>\n",
       "    <tr style=\"text-align: right;\">\n",
       "      <th></th>\n",
       "      <th>index</th>\n",
       "      <th>category</th>\n",
       "    </tr>\n",
       "  </thead>\n",
       "  <tbody>\n",
       "    <tr>\n",
       "      <th>0</th>\n",
       "      <td>Crime TV Shows, International TV Shows, TV Dramas</td>\n",
       "      <td>17</td>\n",
       "    </tr>\n",
       "    <tr>\n",
       "      <th>1</th>\n",
       "      <td>International TV Shows, TV Dramas</td>\n",
       "      <td>6</td>\n",
       "    </tr>\n",
       "    <tr>\n",
       "      <th>2</th>\n",
       "      <td>International TV Shows, Romantic TV Shows, TV ...</td>\n",
       "      <td>6</td>\n",
       "    </tr>\n",
       "    <tr>\n",
       "      <th>3</th>\n",
       "      <td>Stand-Up Comedy &amp; Talk Shows, TV Comedies</td>\n",
       "      <td>6</td>\n",
       "    </tr>\n",
       "    <tr>\n",
       "      <th>4</th>\n",
       "      <td>Anime Series, International TV Shows</td>\n",
       "      <td>5</td>\n",
       "    </tr>\n",
       "    <tr>\n",
       "      <th>5</th>\n",
       "      <td>Kids' TV, TV Comedies</td>\n",
       "      <td>5</td>\n",
       "    </tr>\n",
       "    <tr>\n",
       "      <th>6</th>\n",
       "      <td>International TV Shows, Korean TV Shows, Roman...</td>\n",
       "      <td>5</td>\n",
       "    </tr>\n",
       "    <tr>\n",
       "      <th>7</th>\n",
       "      <td>TV Shows</td>\n",
       "      <td>5</td>\n",
       "    </tr>\n",
       "    <tr>\n",
       "      <th>8</th>\n",
       "      <td>Crime TV Shows, International TV Shows, Spanis...</td>\n",
       "      <td>4</td>\n",
       "    </tr>\n",
       "    <tr>\n",
       "      <th>9</th>\n",
       "      <td>Kids' TV</td>\n",
       "      <td>4</td>\n",
       "    </tr>\n",
       "  </tbody>\n",
       "</table>\n",
       "</div>"
      ],
      "text/plain": [
       "                                               index  category\n",
       "0  Crime TV Shows, International TV Shows, TV Dramas        17\n",
       "1                  International TV Shows, TV Dramas         6\n",
       "2  International TV Shows, Romantic TV Shows, TV ...         6\n",
       "3          Stand-Up Comedy & Talk Shows, TV Comedies         6\n",
       "4               Anime Series, International TV Shows         5\n",
       "5                              Kids' TV, TV Comedies         5\n",
       "6  International TV Shows, Korean TV Shows, Roman...         5\n",
       "7                                           TV Shows         5\n",
       "8  Crime TV Shows, International TV Shows, Spanis...         4\n",
       "9                                           Kids' TV         4"
      ]
     },
     "execution_count": 26,
     "metadata": {},
     "output_type": "execute_result"
    }
   ],
   "source": [
    "top_10_category_tvshow = df['category'][df['type'] == 'TV Show'].value_counts().sort_values(ascending=False).iloc[0:10].reset_index()\n",
    "top_10_category_tvshow"
   ]
  },
  {
   "cell_type": "code",
   "execution_count": 27,
   "id": "6d6019e8",
   "metadata": {
    "execution": {
     "iopub.execute_input": "2024-03-11T13:00:28.500416Z",
     "iopub.status.busy": "2024-03-11T13:00:28.499055Z",
     "iopub.status.idle": "2024-03-11T13:00:28.507549Z",
     "shell.execute_reply": "2024-03-11T13:00:28.506229Z"
    },
    "papermill": {
     "duration": 0.029567,
     "end_time": "2024-03-11T13:00:28.510319",
     "exception": false,
     "start_time": "2024-03-11T13:00:28.480752",
     "status": "completed"
    },
    "tags": []
   },
   "outputs": [],
   "source": [
    "df['date_added_year'] = df['date_added'].dt.year"
   ]
  },
  {
   "cell_type": "code",
   "execution_count": 28,
   "id": "628d2ddd",
   "metadata": {
    "execution": {
     "iopub.execute_input": "2024-03-11T13:00:28.545866Z",
     "iopub.status.busy": "2024-03-11T13:00:28.545493Z",
     "iopub.status.idle": "2024-03-11T13:00:28.565507Z",
     "shell.execute_reply": "2024-03-11T13:00:28.564204Z"
    },
    "papermill": {
     "duration": 0.040711,
     "end_time": "2024-03-11T13:00:28.568097",
     "exception": false,
     "start_time": "2024-03-11T13:00:28.527386",
     "status": "completed"
    },
    "tags": []
   },
   "outputs": [
    {
     "data": {
      "text/html": [
       "<div>\n",
       "<style scoped>\n",
       "    .dataframe tbody tr th:only-of-type {\n",
       "        vertical-align: middle;\n",
       "    }\n",
       "\n",
       "    .dataframe tbody tr th {\n",
       "        vertical-align: top;\n",
       "    }\n",
       "\n",
       "    .dataframe thead th {\n",
       "        text-align: right;\n",
       "    }\n",
       "</style>\n",
       "<table border=\"1\" class=\"dataframe\">\n",
       "  <thead>\n",
       "    <tr style=\"text-align: right;\">\n",
       "      <th></th>\n",
       "      <th>type</th>\n",
       "      <th>director</th>\n",
       "      <th>country</th>\n",
       "      <th>date_added</th>\n",
       "      <th>release_year</th>\n",
       "      <th>rating</th>\n",
       "      <th>duration</th>\n",
       "      <th>category</th>\n",
       "      <th>date_added_year</th>\n",
       "    </tr>\n",
       "  </thead>\n",
       "  <tbody>\n",
       "    <tr>\n",
       "      <th>7</th>\n",
       "      <td>Movie</td>\n",
       "      <td>Haile Gerima</td>\n",
       "      <td>United States, Ghana, Burkina Faso, United Kin...</td>\n",
       "      <td>2021-09-24</td>\n",
       "      <td>1993</td>\n",
       "      <td>TV-MA</td>\n",
       "      <td>125 min</td>\n",
       "      <td>Dramas, Independent Movies, International Movies</td>\n",
       "      <td>2021.0</td>\n",
       "    </tr>\n",
       "    <tr>\n",
       "      <th>8</th>\n",
       "      <td>TV Show</td>\n",
       "      <td>Andy Devonshire</td>\n",
       "      <td>United Kingdom</td>\n",
       "      <td>2021-09-24</td>\n",
       "      <td>2021</td>\n",
       "      <td>TV-14</td>\n",
       "      <td>9 Seasons</td>\n",
       "      <td>British TV Shows, Reality TV</td>\n",
       "      <td>2021.0</td>\n",
       "    </tr>\n",
       "    <tr>\n",
       "      <th>9</th>\n",
       "      <td>Movie</td>\n",
       "      <td>Theodore Melfi</td>\n",
       "      <td>United States</td>\n",
       "      <td>2021-09-24</td>\n",
       "      <td>2021</td>\n",
       "      <td>PG-13</td>\n",
       "      <td>104 min</td>\n",
       "      <td>Comedies, Dramas</td>\n",
       "      <td>2021.0</td>\n",
       "    </tr>\n",
       "    <tr>\n",
       "      <th>12</th>\n",
       "      <td>Movie</td>\n",
       "      <td>Christian Schwochow</td>\n",
       "      <td>Germany, Czech Republic</td>\n",
       "      <td>2021-09-23</td>\n",
       "      <td>2021</td>\n",
       "      <td>TV-MA</td>\n",
       "      <td>127 min</td>\n",
       "      <td>Dramas, International Movies</td>\n",
       "      <td>2021.0</td>\n",
       "    </tr>\n",
       "    <tr>\n",
       "      <th>24</th>\n",
       "      <td>Movie</td>\n",
       "      <td>S. Shankar</td>\n",
       "      <td>India</td>\n",
       "      <td>2021-09-21</td>\n",
       "      <td>1998</td>\n",
       "      <td>TV-14</td>\n",
       "      <td>166 min</td>\n",
       "      <td>Comedies, International Movies, Romantic Movies</td>\n",
       "      <td>2021.0</td>\n",
       "    </tr>\n",
       "  </tbody>\n",
       "</table>\n",
       "</div>"
      ],
      "text/plain": [
       "       type             director  \\\n",
       "7     Movie         Haile Gerima   \n",
       "8   TV Show      Andy Devonshire   \n",
       "9     Movie       Theodore Melfi   \n",
       "12    Movie  Christian Schwochow   \n",
       "24    Movie           S. Shankar   \n",
       "\n",
       "                                              country date_added  \\\n",
       "7   United States, Ghana, Burkina Faso, United Kin... 2021-09-24   \n",
       "8                                      United Kingdom 2021-09-24   \n",
       "9                                       United States 2021-09-24   \n",
       "12                            Germany, Czech Republic 2021-09-23   \n",
       "24                                              India 2021-09-21   \n",
       "\n",
       "    release_year rating   duration  \\\n",
       "7           1993  TV-MA    125 min   \n",
       "8           2021  TV-14  9 Seasons   \n",
       "9           2021  PG-13    104 min   \n",
       "12          2021  TV-MA    127 min   \n",
       "24          1998  TV-14    166 min   \n",
       "\n",
       "                                            category  date_added_year  \n",
       "7   Dramas, Independent Movies, International Movies           2021.0  \n",
       "8                       British TV Shows, Reality TV           2021.0  \n",
       "9                                   Comedies, Dramas           2021.0  \n",
       "12                      Dramas, International Movies           2021.0  \n",
       "24   Comedies, International Movies, Romantic Movies           2021.0  "
      ]
     },
     "execution_count": 28,
     "metadata": {},
     "output_type": "execute_result"
    }
   ],
   "source": [
    "df.head()"
   ]
  },
  {
   "cell_type": "code",
   "execution_count": 29,
   "id": "e9270626",
   "metadata": {
    "execution": {
     "iopub.execute_input": "2024-03-11T13:00:28.603731Z",
     "iopub.status.busy": "2024-03-11T13:00:28.603226Z",
     "iopub.status.idle": "2024-03-11T13:00:28.616810Z",
     "shell.execute_reply": "2024-03-11T13:00:28.615856Z"
    },
    "papermill": {
     "duration": 0.034263,
     "end_time": "2024-03-11T13:00:28.619078",
     "exception": false,
     "start_time": "2024-03-11T13:00:28.584815",
     "status": "completed"
    },
    "tags": []
   },
   "outputs": [
    {
     "data": {
      "text/plain": [
       "2019.0    1264\n",
       "2020.0    1194\n",
       "2018.0    1100\n",
       "2021.0     755\n",
       "2017.0     722\n",
       "2016.0     202\n",
       "2015.0      50\n",
       "2014.0      14\n",
       "2011.0      13\n",
       "2013.0       7\n",
       "2012.0       3\n",
       "2009.0       2\n",
       "2008.0       1\n",
       "2010.0       1\n",
       "Name: date_added_year, dtype: int64"
      ]
     },
     "execution_count": 29,
     "metadata": {},
     "output_type": "execute_result"
    }
   ],
   "source": [
    "date_added =  df['date_added_year'].value_counts()\n",
    "date_added"
   ]
  },
  {
   "cell_type": "code",
   "execution_count": 65,
   "id": "95289a3b",
   "metadata": {
    "execution": {
     "iopub.execute_input": "2024-03-11T13:00:28.656805Z",
     "iopub.status.busy": "2024-03-11T13:00:28.655932Z",
     "iopub.status.idle": "2024-03-11T13:00:28.901621Z",
     "shell.execute_reply": "2024-03-11T13:00:28.899918Z"
    },
    "papermill": {
     "duration": 0.270208,
     "end_time": "2024-03-11T13:00:28.906279",
     "exception": false,
     "start_time": "2024-03-11T13:00:28.636071",
     "status": "completed"
    },
    "tags": []
   },
   "outputs": [
    {
     "data": {
      "image/png": "[encoded data removed]",
      "text/plain": [
       "<Figure size 1000x600 with 1 Axes>"
      ]
     },
     "metadata": {},
     "output_type": "display_data"
    }
   ],
   "source": [
    "colors = ['#AAD7D9', '#FFE5E5']  \n",
    "\n",
    "plt.figure(figsize=(10, 6))\n",
    "plt.pie(types, labels=['Movies', 'TV Shows'], autopct='%1.1f%%', explode=[0, 0.1], colors=colors)\n",
    "plt.title('Movies & TV Shows')\n",
    "plt.legend()\n",
    "plt.show()\n"
   ]
  },
  {
   "cell_type": "code",
   "execution_count": 63,
   "id": "622bd9e7",
   "metadata": {
    "execution": {
     "iopub.execute_input": "2024-03-11T13:00:28.946500Z",
     "iopub.status.busy": "2024-03-11T13:00:28.945689Z",
     "iopub.status.idle": "2024-03-11T13:00:29.444277Z",
     "shell.execute_reply": "2024-03-11T13:00:29.442931Z"
    },
    "papermill": {
     "duration": 0.52076,
     "end_time": "2024-03-11T13:00:29.447064",
     "exception": false,
     "start_time": "2024-03-11T13:00:28.926304",
     "status": "completed"
    },
    "tags": []
   },
   "outputs": [
    {
     "data": {
      "image/png": "[encoded data removed]",
      "text/plain": [
       "<Figure size 1000x500 with 1 Axes>"
      ]
     },
     "metadata": {},
     "output_type": "display_data"
    }
   ],
   "source": [
    "plt.figure(figsize=(10,5))\n",
    "plt.bar(top_10_directors_movie['index'],top_10_directors_movie['director'], color = \"#E6A4B4\" , label='Count')\n",
    "plt.title('Top 10 Movie Directors')\n",
    "plt.xlabel('Directors')\n",
    "plt.ylabel('Count')\n",
    "plt.xticks(rotation=90)\n",
    "plt.yticks(np.arange(0,20,2))\n",
    "plt.legend()\n",
    "plt.show()"
   ]
  },
  {
   "cell_type": "code",
   "execution_count": 62,
   "id": "ae9ec664",
   "metadata": {
    "execution": {
     "iopub.execute_input": "2024-03-11T13:00:29.489756Z",
     "iopub.status.busy": "2024-03-11T13:00:29.488756Z",
     "iopub.status.idle": "2024-03-11T13:00:29.872637Z",
     "shell.execute_reply": "2024-03-11T13:00:29.871526Z"
    },
    "papermill": {
     "duration": 0.409899,
     "end_time": "2024-03-11T13:00:29.875439",
     "exception": false,
     "start_time": "2024-03-11T13:00:29.465540",
     "status": "completed"
    },
    "tags": []
   },
   "outputs": [
    {
     "data": {
      "image/png": "[encoded data removed]",
      "text/plain": [
       "<Figure size 1000x400 with 1 Axes>"
      ]
     },
     "metadata": {},
     "output_type": "display_data"
    }
   ],
   "source": [
    "plt.figure(figsize=(10,4))\n",
    "plt.bar(top_10_directors_TVShow['index'],top_10_directors_TVShow['director'], color = \"#D37676\" , label='Count')\n",
    "plt.title('Top 10 TV Shows Directors')\n",
    "plt.xlabel('Directors')\n",
    "plt.ylabel('Count')\n",
    "plt.xticks(rotation=90)\n",
    "plt.legend()\n",
    "plt.show()"
   ]
  },
  {
   "cell_type": "code",
   "execution_count": 61,
   "id": "731fb4c6",
   "metadata": {
    "execution": {
     "iopub.execute_input": "2024-03-11T13:00:29.915568Z",
     "iopub.status.busy": "2024-03-11T13:00:29.914424Z",
     "iopub.status.idle": "2024-03-11T13:00:30.273211Z",
     "shell.execute_reply": "2024-03-11T13:00:30.271967Z"
    },
    "papermill": {
     "duration": 0.381597,
     "end_time": "2024-03-11T13:00:30.275909",
     "exception": false,
     "start_time": "2024-03-11T13:00:29.894312",
     "status": "completed"
    },
    "tags": []
   },
   "outputs": [
    {
     "data": {
      "image/png": "[encoded data removed]",
      "text/plain": [
       "<Figure size 1000x500 with 1 Axes>"
      ]
     },
     "metadata": {},
     "output_type": "display_data"
    }
   ],
   "source": [
    "plt.figure(figsize=(10,5))\n",
    "plt.bar(top_10_countries_movie['index'],top_10_countries_movie['country'], color = \"#51829B\" , label='Count')\n",
    "plt.title('Top 10 Movie Countries')\n",
    "plt.xlabel('Countries')\n",
    "plt.ylabel('Count')\n",
    "plt.xticks(rotation=90)\n",
    "plt.legend()\n",
    "plt.show()"
   ]
  },
  {
   "cell_type": "code",
   "execution_count": 60,
   "id": "f8ad44d2",
   "metadata": {
    "execution": {
     "iopub.execute_input": "2024-03-11T13:00:30.316894Z",
     "iopub.status.busy": "2024-03-11T13:00:30.316125Z",
     "iopub.status.idle": "2024-03-11T13:00:30.664088Z",
     "shell.execute_reply": "2024-03-11T13:00:30.663069Z"
    },
    "papermill": {
     "duration": 0.371615,
     "end_time": "2024-03-11T13:00:30.667077",
     "exception": false,
     "start_time": "2024-03-11T13:00:30.295462",
     "status": "completed"
    },
    "tags": []
   },
   "outputs": [
    {
     "data": {
      "image/png": "[encoded data removed]",
      "text/plain": [
       "<Figure size 1000x500 with 1 Axes>"
      ]
     },
     "metadata": {},
     "output_type": "display_data"
    }
   ],
   "source": [
    "plt.figure(figsize=(10,5))\n",
    "plt.bar(top_10_countries_TVShow['index'],top_10_countries_TVShow['country'], color = \"#E2BFB3\" , label='Count')\n",
    "plt.title('Top 10 TV Shows Countries')\n",
    "plt.xlabel('Countries')\n",
    "plt.ylabel('Count')\n",
    "plt.xticks(rotation=90)\n",
    "plt.legend()\n",
    "plt.show()"
   ]
  },
  {
   "cell_type": "code",
   "execution_count": 59,
   "id": "286ba598",
   "metadata": {
    "execution": {
     "iopub.execute_input": "2024-03-11T13:00:30.779079Z",
     "iopub.status.busy": "2024-03-11T13:00:30.778673Z",
     "iopub.status.idle": "2024-03-11T13:00:31.183805Z",
     "shell.execute_reply": "2024-03-11T13:00:31.182632Z"
    },
    "papermill": {
     "duration": 0.499547,
     "end_time": "2024-03-11T13:00:31.186700",
     "exception": false,
     "start_time": "2024-03-11T13:00:30.687153",
     "status": "completed"
    },
    "tags": []
   },
   "outputs": [
    {
     "data": {
      "image/png": "[encoded data removed]",
      "text/plain": [
       "<Figure size 1000x500 with 1 Axes>"
      ]
     },
     "metadata": {},
     "output_type": "display_data"
    }
   ],
   "source": [
    "plt.figure(figsize=(10,5))\n",
    "plt.bar(top_10_category_moive['index'],top_10_category_moive['category'], color = \"#8E7AB5\" , label='Count')\n",
    "plt.title('Top 10 Movie Category')\n",
    "plt.xlabel('Categories')\n",
    "plt.ylabel('Count')\n",
    "plt.xticks(rotation=90)\n",
    "plt.legend()\n",
    "plt.show()"
   ]
  },
  {
   "cell_type": "code",
   "execution_count": 58,
   "id": "d09c28b5",
   "metadata": {
    "execution": {
     "iopub.execute_input": "2024-03-11T13:00:31.230826Z",
     "iopub.status.busy": "2024-03-11T13:00:31.230432Z",
     "iopub.status.idle": "2024-03-11T13:00:31.659812Z",
     "shell.execute_reply": "2024-03-11T13:00:31.658829Z"
    },
    "papermill": {
     "duration": 0.454601,
     "end_time": "2024-03-11T13:00:31.662446",
     "exception": false,
     "start_time": "2024-03-11T13:00:31.207845",
     "status": "completed"
    },
    "tags": []
   },
   "outputs": [
    {
     "data": {
      "image/png": "[encoded data removed]",
      "text/plain": [
       "<Figure size 1000x500 with 1 Axes>"
      ]
     },
     "metadata": {},
     "output_type": "display_data"
    }
   ],
   "source": [
    "plt.figure(figsize=(10,5))\n",
    "plt.bar(top_10_category_tvshow['index'],top_10_category_tvshow['category'], color = \"#B5C0D0\" , label='Count')\n",
    "plt.title('Top 10 TV Shows Category')\n",
    "plt.xlabel('Categories')\n",
    "plt.ylabel('Count')\n",
    "plt.xticks(rotation=90)\n",
    "plt.legend()\n",
    "plt.show()"
   ]
  },
  {
   "cell_type": "code",
   "execution_count": 57,
   "id": "8b709415",
   "metadata": {
    "execution": {
     "iopub.execute_input": "2024-03-11T13:00:31.709447Z",
     "iopub.status.busy": "2024-03-11T13:00:31.708612Z",
     "iopub.status.idle": "2024-03-11T13:00:32.050805Z",
     "shell.execute_reply": "2024-03-11T13:00:32.049584Z"
    },
    "papermill": {
     "duration": 0.368772,
     "end_time": "2024-03-11T13:00:32.053544",
     "exception": false,
     "start_time": "2024-03-11T13:00:31.684772",
     "status": "completed"
    },
    "tags": []
   },
   "outputs": [
    {
     "data": {
      "image/png": "[encoded data removed]",
      "text/plain": [
       "<Figure size 1000x500 with 1 Axes>"
      ]
     },
     "metadata": {},
     "output_type": "display_data"
    }
   ],
   "source": [
    "plt.figure(figsize=(10,5))\n",
    "plt.bar(top_10_rating_movie['index'],top_10_rating_movie['rating'], color = \"#B0C5A4\" , label='Count')\n",
    "plt.title('Top 10 Movie Ratings')\n",
    "plt.xlabel('Ratings')\n",
    "plt.ylabel('Count')\n",
    "plt.xticks(rotation=45)\n",
    "plt.legend()\n",
    "plt.show()"
   ]
  },
  {
   "cell_type": "code",
   "execution_count": 56,
   "id": "72a0d379",
   "metadata": {
    "execution": {
     "iopub.execute_input": "2024-03-11T13:00:32.102799Z",
     "iopub.status.busy": "2024-03-11T13:00:32.101777Z",
     "iopub.status.idle": "2024-03-11T13:00:32.409450Z",
     "shell.execute_reply": "2024-03-11T13:00:32.408337Z"
    },
    "papermill": {
     "duration": 0.335155,
     "end_time": "2024-03-11T13:00:32.412163",
     "exception": false,
     "start_time": "2024-03-11T13:00:32.077008",
     "status": "completed"
    },
    "tags": []
   },
   "outputs": [
    {
     "data": {
      "image/png": "[encoded data removed]",
      "text/plain": [
       "<Figure size 800x500 with 1 Axes>"
      ]
     },
     "metadata": {},
     "output_type": "display_data"
    }
   ],
   "source": [
    "plt.figure(figsize=(8,5))\n",
    "plt.bar(top_10_rating_tvshow['index'],top_10_rating_tvshow['rating'], color = \"#E1AFD1\" , label='Count')\n",
    "plt.title('Top 5 TV Show Ratings')\n",
    "plt.xlabel('Ratings')\n",
    "plt.ylabel('Count')\n",
    "plt.xticks(rotation=45)\n",
    "plt.legend()\n",
    "plt.show()"
   ]
  },
  {
   "cell_type": "code",
   "execution_count": 55,
   "id": "a17a9934",
   "metadata": {
    "execution": {
     "iopub.execute_input": "2024-03-11T13:00:32.461707Z",
     "iopub.status.busy": "2024-03-11T13:00:32.461296Z",
     "iopub.status.idle": "2024-03-11T13:00:32.823538Z",
     "shell.execute_reply": "2024-03-11T13:00:32.822316Z"
    },
    "papermill": {
     "duration": 0.38977,
     "end_time": "2024-03-11T13:00:32.826120",
     "exception": false,
     "start_time": "2024-03-11T13:00:32.436350",
     "status": "completed"
    },
    "tags": []
   },
   "outputs": [
    {
     "data": {
      "image/png": "[encoded data removed]",
      "text/plain": [
       "<Figure size 800x600 with 1 Axes>"
      ]
     },
     "metadata": {},
     "output_type": "display_data"
    }
   ],
   "source": [
    "plt.figure(figsize=(8,6))\n",
    "plt.hist(df['date_added_year'], bins=14, label='Count', color = \"#9BB0C1\" );\n",
    "plt.grid(True)\n",
    "plt.title('Distribution of Date Added Years')\n",
    "plt.xlabel('Years')\n",
    "plt.ylabel('Count')\n",
    "plt.xticks(rotation=45)\n",
    "plt.legend()\n",
    "plt.show()"
   ]
  },
  {
   "cell_type": "code",
   "execution_count": null,
   "id": "8035a250",
   "metadata": {
    "papermill": {
     "duration": 0.024224,
     "end_time": "2024-03-11T13:00:32.874771",
     "exception": false,
     "start_time": "2024-03-11T13:00:32.850547",
     "status": "completed"
    },
    "tags": []
   },
   "outputs": [],
   "source": []
  }
 ],
 "metadata": {
  "kaggle": {
   "accelerator": "none",
   "dataSources": [
    {
     "datasetId": 434238,
     "sourceId": 2654038,
     "sourceType": "datasetVersion"
    }
   ],
   "dockerImageVersionId": 30664,
   "isGpuEnabled": false,
   "isInternetEnabled": true,
   "language": "python",
   "sourceType": "notebook"
  },
  "kernelspec": {
   "display_name": "Python 3 (ipykernel)",
   "language": "python",
   "name": "python3"
  },
  "language_info": {
   "codemirror_mode": {
    "name": "ipython",
    "version": 3
   },
   "file_extension": ".py",
   "mimetype": "text/x-python",
   "name": "python",
   "nbconvert_exporter": "python",
   "pygments_lexer": "ipython3",
   "version": "3.9.13"
  },
  "papermill": {
   "default_parameters": {},
   "duration": 12.347331,
   "end_time": "2024-03-11T13:00:33.520791",
   "environment_variables": {},
   "exception": null,
   "input_path": "__notebook__.ipynb",
   "output_path": "__notebook__.ipynb",
   "parameters": {},
   "start_time": "2024-03-11T13:00:21.173460",
   "version": "2.5.0"
  }
 },
 "nbformat": 4,
 "nbformat_minor": 5
}
